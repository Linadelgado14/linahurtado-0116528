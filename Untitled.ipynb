{
 "cells": [
  {
   "cell_type": "code",
   "execution_count": null,
   "metadata": {},
   "outputs": [],
   "source": [
    "1.\n",
    "import math\n",
    "num=float(input (\"Numero: \"))\n",
    "if num!=0:\n",
    "    if(num<0):\n",
    "        num_a=math.sqrt(num**2)\n",
    "        print (num_a)\n",
    "    else:\n",
    "        if(num>0):\n",
    "            print (num)\n",
    "else:\n",
    "    print (num)\n"
   ]
  },
  {
   "cell_type": "code",
   "execution_count": null,
   "metadata": {},
   "outputs": [],
   "source": [
    "2.\n",
    "numero=(input('Ingrese un valor:'))\n",
    "a=[]\n",
    "signo=\"\"\n",
    "for i in numero:\n",
    "    if i in \"123456789\":\n",
    "        a.insert(0,i)\n",
    "    elif i in \"-\":\n",
    "        signo=i\n",
    "entero=\"\"\n",
    "for i in range(len(a)):\n",
    "    entero=entero+a[i]\n",
    "entero=signo+entero\n",
    "print(entero)"
   ]
  },
  {
   "cell_type": "code",
   "execution_count": null,
   "metadata": {},
   "outputs": [],
   "source": [
    "3.\n",
    "numero=(input('Ingrese un valor:'))\n",
    "bandera=0;\n",
    "for i in numero:\n",
    "    if i==\"8\":\n",
    "        bandera=1\n",
    "if bandera==0:\n",
    "    print(\"El número digitado no contiene un 8\")\n",
    "else:\n",
    "    print(\"EL número digitado contiene al menos un 8\")"
   ]
  },
  {
   "cell_type": "code",
   "execution_count": null,
   "metadata": {},
   "outputs": [],
   "source": [
    "4.\n",
    "numero=(input('Ingrese un valor:'))\n",
    "suma=0\n",
    "for i in numero:\n",
    "    a=int(i)\n",
    "    if a%2==0:\n",
    "        suma=suma+a\n",
    "print(suma)"
   ]
  },
  {
   "cell_type": "code",
   "execution_count": null,
   "metadata": {},
   "outputs": [],
   "source": [
    "5.\n",
    "c=0\n",
    "f=[]\n",
    "n= input(\"Ingrese un número:\")\n",
    "for i in range(len(n)-1):   \n",
    "    if n[i]==\"5\" and n[i+1]==\"5\":\n",
    "        c+=1\n",
    "c=c+1\n",
    "print(\"El número de cincos que hay es de:\",(c))"
   ]
  },
  {
   "cell_type": "code",
   "execution_count": null,
   "metadata": {},
   "outputs": [],
   "source": [
    "6.\n",
    "lista=[]\n",
    "def fib(n):\n",
    "    a,b = 0,1 \n",
    "    while a<n:\n",
    "        lista.append(a)\n",
    "        a,b= b, a+b \n",
    "    return lista\n",
    "num=input('Ingrese un número:')\n",
    "suma=0\n",
    "for i in num:\n",
    "    suma=suma+int(i)\n",
    "m=1000\n",
    "fibo=fib(m)\n",
    "bandera=0\n",
    "for i in fibo:\n",
    "    if i ==suma:\n",
    "        bandera=1\n",
    "if bandera ==1:\n",
    "    print('La suma del número se encuentra en la sucesión de fibonacci ')\n",
    "else:\n",
    "    print('La suma del número no se encuentra en la sucesión de fibonacci ')"
   ]
  },
  {
   "cell_type": "code",
   "execution_count": null,
   "metadata": {},
   "outputs": [],
   "source": [
    "7.\n",
    "a= input(\"Ingresa un número:\")\n",
    "print(a)\n",
    "num=[]\n",
    "cont=1\n",
    "c=0\n",
    "for i in a:\n",
    "    for j in range(cont,len(a)):\n",
    "        if i==a[j]:\n",
    "            num.append(i)\n",
    "    cont+=1\n",
    "    c=cont\n",
    "print(\"Los digitos repetidos son:\",(num)) \n"
   ]
  },
  {
   "cell_type": "code",
   "execution_count": null,
   "metadata": {},
   "outputs": [],
   "source": [
    "8.\n",
    "mult_tres=[]\n",
    "mult_cuatro=[]\n",
    "for i in range(1,100):\n",
    "    if i%3==0 and len(mult_tres)<15:\n",
    "        mult_tres.append(i)\n",
    "    elif i%4==0 and len(mult_cuatro)<10:\n",
    "        mult_cuatro.append(i)\n",
    "print(\"los primeros 15 multiplos del 3 son:\", (mult_tres))\n",
    "print(\"los primeros 10 multiplos del e son:\", (mult_cuatro))"
   ]
  },
  {
   "cell_type": "code",
   "execution_count": null,
   "metadata": {},
   "outputs": [],
   "source": [
    "9.\n"
   ]
  },
  {
   "cell_type": "code",
   "execution_count": null,
   "metadata": {},
   "outputs": [],
   "source": [
    "10.\n",
    "letra=input('Ingrese un valor:')\n",
    "lista=[]\n",
    "salida=\"\"\n",
    "for i in letra:\n",
    "    if i in \"ABCDEFGHIJKLMNOPQRSTUVWXYZÑÜÁÉÍÓÚ\":\n",
    "        lista.append(i)\n",
    "    else:\n",
    "        lista.append(i.swapcase())\n",
    "for i in lista:\n",
    "    salida=salida+i   \n",
    "print(salida)"
   ]
  },
  {
   "cell_type": "code",
   "execution_count": null,
   "metadata": {},
   "outputs": [],
   "source": [
    "11.\n",
    "texto= input('Ingrese una cadena:')\n",
    "texto=texto.split()\n",
    "num_in=0\n",
    "num_v=0\n",
    "num_t=0\n",
    "num_e=0\n",
    "for i in texto:\n",
    "    if i==\"in\":\n",
    "        num_in+=1\n",
    "    else:\n",
    "        for j in i:\n",
    "            if j in \"AEIUO\":\n",
    "                num_v+=1\n",
    "            elif j in  \"ÁÉÍÓÚáéíóú\":\n",
    "                num_t+=1\n",
    "            elif j in \"123456789\":\n",
    "                num_e+=1\n",
    "num_es=len(texto)-1\n",
    "print('La cantidad de vocales mayusculas es de:', (num_v))\n",
    "print('La cantidad de letras con tilde es de:', (num_t))           \n",
    "print('La cantidad de digitos es de:', (num_e))\n",
    "print('La cantidad de espacios es de:', (num_es)) \n",
    "print('La cantidad de palabras reservadas es de:', (num_in))   "
   ]
  },
  {
   "cell_type": "code",
   "execution_count": null,
   "metadata": {},
   "outputs": [],
   "source": []
  }
 ],
 "metadata": {
  "kernelspec": {
   "display_name": "Python 3",
   "language": "python",
   "name": "python3"
  },
  "language_info": {
   "codemirror_mode": {
    "name": "ipython",
    "version": 3
   },
   "file_extension": ".py",
   "mimetype": "text/x-python",
   "name": "python",
   "nbconvert_exporter": "python",
   "pygments_lexer": "ipython3",
   "version": "3.7.3"
  }
 },
 "nbformat": 4,
 "nbformat_minor": 2
}
